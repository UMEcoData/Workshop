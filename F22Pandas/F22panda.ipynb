{
  "cells": [
    {
      "cell_type": "markdown",
      "id": "2d4c68a3",
      "metadata": {
        "id": "2d4c68a3"
      },
      "source": [
        "# Michigan EcoData Python Pandas Workshop Fall 2022\n",
        "\n",
        "> This is a introduction tutorial on the programming language Python 3 and some basic data science libraries\n",
        "> Some documentations \n",
        "- Python 3: https://docs.python.org/3/\n",
        "- pandas: https://pandas.pydata.org/docs/index.html\n",
        "- scikit-learn: https://scikit-learn.org/stable/\n",
        "> \n",
        "> Download the data file in this link\n",
        "https://www.kaggle.com/datasets/802ea18195176358ddec8265a33ca8909b606123d687dc06123d1b1d2154d45c?resource=download"
      ]
    },
    {
      "cell_type": "markdown",
      "id": "17631eab",
      "metadata": {
        "id": "17631eab"
      },
      "source": [
        "## First import necessary libraries"
      ]
    },
    {
      "cell_type": "code",
      "execution_count": null,
      "id": "3709c42e",
      "metadata": {
        "id": "3709c42e"
      },
      "outputs": [],
      "source": [
        "import pandas as pd\n",
        "import numpy as np\n",
        "import os\n",
        "\n",
        "from numpy import array\n",
        "import matplotlib.pyplot as plt\n",
        "\n",
        "from sklearn import linear_model\n",
        "from sklearn.model_selection import train_test_split\n",
        "from sklearn.preprocessing import LabelEncoder, MinMaxScaler"
      ]
    },
    {
      "cell_type": "markdown",
      "id": "90a323e7",
      "metadata": {
        "id": "90a323e7"
      },
      "source": [
        "## Hello World"
      ]
    },
    {
      "cell_type": "code",
      "execution_count": null,
      "id": "7ba94794",
      "metadata": {
        "id": "7ba94794"
      },
      "outputs": [],
      "source": [
        "print(\"Hello World\")"
      ]
    },
    {
      "cell_type": "code",
      "execution_count": null,
      "id": "a6fbab9b",
      "metadata": {
        "id": "a6fbab9b"
      },
      "outputs": [],
      "source": [
        "x = \"Hello World\"\n",
        "print(type(x))\n",
        "print(x)\n",
        "\n",
        "y = 3\n",
        "z = 6\n",
        "print(y + z)"
      ]
    },
    {
      "cell_type": "markdown",
      "id": "53aeaeba",
      "metadata": {
        "id": "53aeaeba"
      },
      "source": [
        "> Here are some basic arithmetic operations in Python"
      ]
    },
    {
      "cell_type": "code",
      "execution_count": null,
      "id": "fbc7eeab",
      "metadata": {
        "id": "fbc7eeab"
      },
      "outputs": [],
      "source": [
        "print(z/y)\n",
        "print(y%z)\n",
        "print(y**z)"
      ]
    },
    {
      "cell_type": "markdown",
      "id": "c20a5157",
      "metadata": {
        "id": "c20a5157"
      },
      "source": [
        "## Array and Loops"
      ]
    },
    {
      "cell_type": "markdown",
      "id": "5f89907b",
      "metadata": {
        "id": "5f89907b"
      },
      "source": [
        "> This is the constructor of a list. You can access elements of list by calling their index"
      ]
    },
    {
      "cell_type": "code",
      "execution_count": null,
      "id": "801df11d",
      "metadata": {
        "id": "801df11d"
      },
      "outputs": [],
      "source": [
        "arr = [1,2,3]\n",
        "arr[0]"
      ]
    },
    {
      "cell_type": "markdown",
      "id": "21ff4578",
      "metadata": {
        "id": "21ff4578"
      },
      "source": [
        "> In Python there are two ways to use a for loop to iterate through a list"
      ]
    },
    {
      "cell_type": "code",
      "execution_count": null,
      "id": "4b31d3d2",
      "metadata": {
        "id": "4b31d3d2"
      },
      "outputs": [],
      "source": [
        "for i in arr:\n",
        "    print (i)"
      ]
    },
    {
      "cell_type": "code",
      "execution_count": null,
      "id": "4590784f",
      "metadata": {
        "id": "4590784f"
      },
      "outputs": [],
      "source": [
        "for i in range(len(arr)):\n",
        "    arr[i]+=1\n",
        "print(arr)"
      ]
    },
    {
      "cell_type": "markdown",
      "id": "8e6a7ee0",
      "metadata": {
        "id": "8e6a7ee0"
      },
      "source": [
        "> A lambda function is a very powerful tool in Python\n",
        ">\n",
        "> It is a function that can take multiple argument but have 1 expression\n",
        ">\n",
        "> with lambda functions you can apply it to your list through map\n",
        ">\n",
        "> Here I have a lambda function that squares a number only if it is even"
      ]
    },
    {
      "cell_type": "code",
      "execution_count": null,
      "id": "fb9750f9",
      "metadata": {
        "id": "fb9750f9"
      },
      "outputs": [],
      "source": [
        "squareIfEven = lambda x: x*x if x%2 == 0 else x\n",
        "a = list(map(squareIfEven, arr))\n",
        "a"
      ]
    },
    {
      "cell_type": "markdown",
      "id": "ed4ebb81",
      "metadata": {
        "id": "ed4ebb81"
      },
      "source": [
        "## Pandas\n",
        "\n",
        "> What is pandas\n",
        "\n",
        "- pandas is a fast, powerful, flexible and easy to use open source data analysis and manipulation tool, built on top of the Python programming language.\n",
        "- with pandas you can create dataframes and organize and clean your data\n",
        "- Dataframes are like excel tables, they have columns and rows"
      ]
    },
    {
      "cell_type": "code",
      "source": [
        "df = pd.read_csv('pollution_data.csv')"
      ],
      "metadata": {
        "id": "5x4pQ1bA3Sxn"
      },
      "id": "5x4pQ1bA3Sxn",
      "execution_count": null,
      "outputs": []
    },
    {
      "cell_type": "markdown",
      "source": [
        "> If you are in Jupyter Notebook you should run this command to import data\n",
        ">\n",
        "`df = pd.read_csv(\"pollution_data.csv\")`"
      ],
      "metadata": {
        "id": "sZ9IrP_oCOvN"
      },
      "id": "sZ9IrP_oCOvN"
    },
    {
      "cell_type": "code",
      "execution_count": null,
      "id": "447dfda7",
      "metadata": {
        "id": "447dfda7"
      },
      "outputs": [],
      "source": [
        "df.shape"
      ]
    },
    {
      "cell_type": "code",
      "execution_count": null,
      "id": "37c59cf1",
      "metadata": {
        "id": "37c59cf1"
      },
      "outputs": [],
      "source": [
        "df.columns"
      ]
    },
    {
      "cell_type": "code",
      "execution_count": null,
      "id": "e3fc6324",
      "metadata": {
        "id": "e3fc6324"
      },
      "outputs": [],
      "source": [
        "columns1 = ['Date', 'City','County','State']\n",
        "columns2 = ['mil_miles','Population Staying at Home','Population Not Staying at Home']\n",
        "columns3 = ['o3_median','pm25_median','no2_median','so2_median']\n",
        "df_new = df[columns1 + columns2 + columns3]\n",
        "df_new"
      ]
    },
    {
      "cell_type": "markdown",
      "source": [
        "## data cleaning and drop na"
      ],
      "metadata": {
        "id": "bSpl58Lw0neh"
      },
      "id": "bSpl58Lw0neh"
    },
    {
      "cell_type": "markdown",
      "source": [
        "> most of the time, the data you are working with has many null values\n",
        ">\n",
        "> We want to deal with these null values by deleting the rows or converting null to a predefined value"
      ],
      "metadata": {
        "id": "ThGFKCrZ1-Cr"
      },
      "id": "ThGFKCrZ1-Cr"
    },
    {
      "cell_type": "code",
      "source": [
        "df_new.dropna()"
      ],
      "metadata": {
        "id": "p2recy4E04Ey"
      },
      "id": "p2recy4E04Ey",
      "execution_count": null,
      "outputs": []
    },
    {
      "cell_type": "code",
      "source": [
        "df_new.dropna(subset=['so2_median'])"
      ],
      "metadata": {
        "id": "403KEDti1ksf"
      },
      "id": "403KEDti1ksf",
      "execution_count": null,
      "outputs": []
    },
    {
      "cell_type": "code",
      "source": [
        "df_new.dropna(subset=['pm25_median','o3_median'], inplace = True)\n",
        "df_new.head()"
      ],
      "metadata": {
        "id": "J0IDWYm11SNp"
      },
      "id": "J0IDWYm11SNp",
      "execution_count": null,
      "outputs": []
    },
    {
      "cell_type": "code",
      "source": [
        "df_new.dtypes"
      ],
      "metadata": {
        "id": "wRzqm1-v14xm"
      },
      "id": "wRzqm1-v14xm",
      "execution_count": null,
      "outputs": []
    },
    {
      "cell_type": "markdown",
      "source": [
        "> As you can see, the population columns are the object data type\n",
        ">\n",
        "> panda is reading the values as string from the CSV file\n",
        ">\n",
        "> This is not what we want since python cannot comprehend values in this format"
      ],
      "metadata": {
        "id": "xMJSn4NR2eRx"
      },
      "id": "xMJSn4NR2eRx"
    },
    {
      "cell_type": "code",
      "source": [
        "df_new['population not at home new']= df_new['Population Not Staying at Home'].apply(lambda x: int(x.replace(',','')))"
      ],
      "metadata": {
        "id": "WKIcFWKH25sU"
      },
      "id": "WKIcFWKH25sU",
      "execution_count": null,
      "outputs": []
    },
    {
      "cell_type": "code",
      "source": [
        "df_new['population at home new']= df_new['Population Staying at Home'].apply(lambda x: int(x.replace(',','')))"
      ],
      "metadata": {
        "id": "05snFyCh3gPn"
      },
      "id": "05snFyCh3gPn",
      "execution_count": null,
      "outputs": []
    },
    {
      "cell_type": "code",
      "source": [
        "df_new.dtypes"
      ],
      "metadata": {
        "id": "KkHhiOBw3nNu"
      },
      "id": "KkHhiOBw3nNu",
      "execution_count": null,
      "outputs": []
    },
    {
      "cell_type": "code",
      "source": [
        "df_new.head()"
      ],
      "metadata": {
        "id": "eFIPcWOZ3rLl"
      },
      "id": "eFIPcWOZ3rLl",
      "execution_count": null,
      "outputs": []
    },
    {
      "cell_type": "markdown",
      "source": [
        "> After converting the population columns to int, we can delete the original population columns"
      ],
      "metadata": {
        "id": "pvml4od4BKDE"
      },
      "id": "pvml4od4BKDE"
    },
    {
      "cell_type": "code",
      "source": [
        "df_new.drop(columns=['Population Staying at Home', 'Population Not Staying at Home'], inplace=True)"
      ],
      "metadata": {
        "id": "PIs0D6zG3-FK"
      },
      "id": "PIs0D6zG3-FK",
      "execution_count": null,
      "outputs": []
    },
    {
      "cell_type": "code",
      "source": [
        "df_new.head()"
      ],
      "metadata": {
        "id": "jXAFwr9G4GUp"
      },
      "id": "jXAFwr9G4GUp",
      "execution_count": null,
      "outputs": []
    },
    {
      "cell_type": "code",
      "source": [
        "df_new['Date']= pd.to_datetime(df_new['Date'])\n",
        "df_new.dtypes"
      ],
      "metadata": {
        "id": "gtD3gQ-0UA6M"
      },
      "id": "gtD3gQ-0UA6M",
      "execution_count": null,
      "outputs": []
    },
    {
      "cell_type": "code",
      "source": [
        "pd.DatetimeIndex(df_new['Date']).month"
      ],
      "metadata": {
        "id": "dN6OR1SCViip"
      },
      "id": "dN6OR1SCViip",
      "execution_count": null,
      "outputs": []
    },
    {
      "cell_type": "markdown",
      "source": [
        "## iloc and Loc\n",
        "\n",
        "\n",
        "\n",
        "> Documentation: https://pandas.pydata.org/docs/reference/api/pandas.DataFrame.iloc.html"
      ],
      "metadata": {
        "id": "EQGTtihYGFzD"
      },
      "id": "EQGTtihYGFzD"
    },
    {
      "cell_type": "code",
      "source": [
        "df_new.iloc[:,5:9]"
      ],
      "metadata": {
        "id": "MkG9R-JADZnI"
      },
      "id": "MkG9R-JADZnI",
      "execution_count": null,
      "outputs": []
    },
    {
      "cell_type": "code",
      "source": [
        "df_new.loc[lambda x: x.State == \"MI\"]"
      ],
      "metadata": {
        "id": "UEMYRCumyX81"
      },
      "id": "UEMYRCumyX81",
      "execution_count": null,
      "outputs": []
    },
    {
      "cell_type": "code",
      "source": [
        "df_new[df_new['State'] == 'MI']"
      ],
      "metadata": {
        "id": "FDFncu5M0OCZ"
      },
      "id": "FDFncu5M0OCZ",
      "execution_count": null,
      "outputs": []
    },
    {
      "cell_type": "code",
      "source": [
        "df_new.loc[lambda x: x.State == \"MI\"].iloc[:,5:9]"
      ],
      "metadata": {
        "id": "v62yrYQv0E_I"
      },
      "id": "v62yrYQv0E_I",
      "execution_count": null,
      "outputs": []
    },
    {
      "cell_type": "markdown",
      "source": [
        "## group by and aggregate\n",
        "> Documentation:\n",
        "- Groupby: https://pandas.pydata.org/docs/reference/api/pandas.DataFrame.groupby.html\n",
        "- Aggregate: https://pandas.pydata.org/docs/reference/api/pandas.core.groupby.DataFrameGroupBy.aggregate.html"
      ],
      "metadata": {
        "id": "4iy2GQSa5_i3"
      },
      "id": "4iy2GQSa5_i3"
    },
    {
      "cell_type": "code",
      "source": [
        "\n",
        "df_new.groupby(['City'])[['population not at home new','o3_median', 'pm25_median','no2_median','so2_median']].mean()\n"
      ],
      "metadata": {
        "id": "iArl0NG0J3W0"
      },
      "id": "iArl0NG0J3W0",
      "execution_count": null,
      "outputs": []
    },
    {
      "cell_type": "code",
      "source": [
        "df_city = df_new.groupby(['City'])[['population not at home new','mil_miles','o3_median', 'pm25_median','no2_median','so2_median']].agg([np.mean, np.std, np.median])\n",
        "df_city.head()"
      ],
      "metadata": {
        "id": "ptFpneg36HW7"
      },
      "id": "ptFpneg36HW7",
      "execution_count": null,
      "outputs": []
    },
    {
      "cell_type": "markdown",
      "source": [
        "## matplotlib\n",
        "> matplotlib is a useful package for graphing data\n",
        ">\n",
        "> it can create line graph, scatter plots histograms and etc\n",
        "\n",
        "Documentation: https://matplotlib.org/stable/api/pyplot_summary.html"
      ],
      "metadata": {
        "id": "HYx8n4Vg7VgT"
      },
      "id": "HYx8n4Vg7VgT"
    },
    {
      "cell_type": "code",
      "source": [
        "plt.scatter(df_city['population not at home new']['median'], df_city.pm25_median['median'])"
      ],
      "metadata": {
        "id": "AKRjfaevMLjT"
      },
      "id": "AKRjfaevMLjT",
      "execution_count": null,
      "outputs": []
    },
    {
      "cell_type": "code",
      "source": [
        "df_city['pm25_median']['median'].hist()"
      ],
      "metadata": {
        "id": "3IqikmDT7utb"
      },
      "id": "3IqikmDT7utb",
      "execution_count": null,
      "outputs": []
    },
    {
      "cell_type": "code",
      "source": [
        "df_MI = df_new.loc[lambda x: x.State == \"MI\"]\n",
        "df_MI\n"
      ],
      "metadata": {
        "id": "JdG772NI8JkB"
      },
      "id": "JdG772NI8JkB",
      "execution_count": null,
      "outputs": []
    },
    {
      "cell_type": "code",
      "source": [
        "df_MI.dtypes"
      ],
      "metadata": {
        "id": "mPieXnTf8-C3"
      },
      "id": "mPieXnTf8-C3",
      "execution_count": null,
      "outputs": []
    },
    {
      "cell_type": "code",
      "source": [
        "plt.plot(df_MI.Date, df_MI.pm25_median)"
      ],
      "metadata": {
        "id": "wqNUw-vU9MPx"
      },
      "id": "wqNUw-vU9MPx",
      "execution_count": null,
      "outputs": []
    },
    {
      "cell_type": "markdown",
      "source": [
        "## basic linear regression and Scikit-learn"
      ],
      "metadata": {
        "id": "-6gRVP-b9l6x"
      },
      "id": "-6gRVP-b9l6x"
    },
    {
      "cell_type": "code",
      "source": [
        "plt.scatter(df_city['population not at home new']['median'], df_city.pm25_median['median'])"
      ],
      "metadata": {
        "id": "XL_nBweq9q8r"
      },
      "id": "XL_nBweq9q8r",
      "execution_count": null,
      "outputs": []
    },
    {
      "cell_type": "code",
      "source": [
        "X = df_city['population not at home new'][['median']]\n",
        "Y = df_city['pm25_median'][['median']]"
      ],
      "metadata": {
        "id": "Q0HPnUfM9v9r"
      },
      "id": "Q0HPnUfM9v9r",
      "execution_count": null,
      "outputs": []
    },
    {
      "cell_type": "code",
      "source": [
        "regr = linear_model.LinearRegression()\n",
        "regr.fit(X,Y)"
      ],
      "metadata": {
        "id": "lHkrpWjj-cui"
      },
      "id": "lHkrpWjj-cui",
      "execution_count": null,
      "outputs": []
    },
    {
      "cell_type": "code",
      "source": [
        "Y_pred = regr.predict(X)\n",
        "plt.scatter(X, Y)\n",
        "plt.plot(X,Y_pred)\n"
      ],
      "metadata": {
        "id": "l4RmdcqT_SJp"
      },
      "id": "l4RmdcqT_SJp",
      "execution_count": null,
      "outputs": []
    },
    {
      "cell_type": "code",
      "source": [
        "regr.score(X, Y)"
      ],
      "metadata": {
        "id": "pPf0ggE-_jBs"
      },
      "id": "pPf0ggE-_jBs",
      "execution_count": null,
      "outputs": []
    },
    {
      "cell_type": "markdown",
      "source": [
        "> multiple linear regression\n",
        ">\n",
        "> In this case, we have 2 predictor and 1 response"
      ],
      "metadata": {
        "id": "Doci1Ho9bMFc"
      },
      "id": "Doci1Ho9bMFc"
    },
    {
      "cell_type": "code",
      "source": [
        "regr2=linear_model.LinearRegression()\n",
        "idx = pd.IndexSlice\n",
        "X2 = df_city.loc[:,idx[['population not at home new','mil_miles'],'median']]\n",
        "X2.head()"
      ],
      "metadata": {
        "id": "1aYnwiFoAgXT"
      },
      "id": "1aYnwiFoAgXT",
      "execution_count": null,
      "outputs": []
    },
    {
      "cell_type": "code",
      "source": [
        "regr2.fit(X2,Y)"
      ],
      "metadata": {
        "id": "kRvU6uEIYs4a"
      },
      "id": "kRvU6uEIYs4a",
      "execution_count": null,
      "outputs": []
    },
    {
      "cell_type": "code",
      "source": [
        "Y_pred2 = regr2.predict(X2)"
      ],
      "metadata": {
        "id": "WtXmPgc0Y2Bx"
      },
      "id": "WtXmPgc0Y2Bx",
      "execution_count": null,
      "outputs": []
    },
    {
      "cell_type": "code",
      "source": [
        "regr2.score(X2,Y)"
      ],
      "metadata": {
        "id": "hoAVF2WbY7uL"
      },
      "id": "hoAVF2WbY7uL",
      "execution_count": null,
      "outputs": []
    },
    {
      "cell_type": "code",
      "source": [
        "plt.scatter(Y_pred2,Y)"
      ],
      "metadata": {
        "id": "-bqQavIFbX7e"
      },
      "id": "-bqQavIFbX7e",
      "execution_count": null,
      "outputs": []
    },
    {
      "cell_type": "markdown",
      "source": [],
      "metadata": {
        "id": "P6qOUB28GEkN"
      },
      "id": "P6qOUB28GEkN"
    }
  ],
  "metadata": {
    "kernelspec": {
      "display_name": "Python 3 (ipykernel)",
      "language": "python",
      "name": "python3"
    },
    "language_info": {
      "codemirror_mode": {
        "name": "ipython",
        "version": 3
      },
      "file_extension": ".py",
      "mimetype": "text/x-python",
      "name": "python",
      "nbconvert_exporter": "python",
      "pygments_lexer": "ipython3",
      "version": "3.9.7"
    },
    "colab": {
      "provenance": [],
      "collapsed_sections": []
    }
  },
  "nbformat": 4,
  "nbformat_minor": 5
}