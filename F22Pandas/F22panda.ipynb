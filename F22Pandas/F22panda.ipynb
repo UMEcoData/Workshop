{
 "cells": [
  {
   "cell_type": "markdown",
   "id": "2d4c68a3",
   "metadata": {
    "id": "2d4c68a3"
   },
   "source": [
    "# Michigan EcoData Python Pandas Workshop Fall 2022\n",
    "\n",
    "> This is a introduction tutorial on the programming language Python 3 and some basic data science libraries\n",
    "> Some documentations \n",
    "- Python 3: https://docs.python.org/3/\n",
    "- pandas: https://pandas.pydata.org/docs/index.html\n",
    "- scikit-learn: https://scikit-learn.org/stable/\n",
    "> \n",
    "> Download the data file in this link\n",
    "https://www.kaggle.com/datasets/802ea18195176358ddec8265a33ca8909b606123d687dc06123d1b1d2154d45c?resource=download"
   ]
  },
  {
   "cell_type": "markdown",
   "id": "17631eab",
   "metadata": {
    "id": "17631eab"
   },
   "source": [
    "## First import necessary libraries"
   ]
  },
  {
   "cell_type": "code",
   "execution_count": null,
   "id": "3709c42e",
   "metadata": {
    "id": "3709c42e"
   },
   "outputs": [],
   "source": [
    "import pandas as pd\n",
    "import numpy as np\n",
    "import os\n",
    "\n",
    "from numpy import array\n",
    "import matplotlib.pyplot as plt\n",
    "\n",
    "from sklearn import linear_model\n",
    "from sklearn.model_selection import train_test_split\n",
    "from sklearn.preprocessing import LabelEncoder, MinMaxScaler"
   ]
  },
  {
   "cell_type": "markdown",
   "id": "90a323e7",
   "metadata": {
    "id": "90a323e7"
   },
   "source": [
    "## Hello World"
   ]
  },
  {
   "cell_type": "code",
   "execution_count": null,
   "id": "7ba94794",
   "metadata": {
    "id": "7ba94794"
   },
   "outputs": [],
   "source": [
    "print(\"Hello World\")"
   ]
  },
  {
   "cell_type": "code",
   "execution_count": null,
   "id": "a6fbab9b",
   "metadata": {
    "id": "a6fbab9b"
   },
   "outputs": [],
   "source": [
    "x = \"Hello World\"\n",
    "print(type(x))\n",
    "print(x)\n",
    "\n",
    "y = 3\n",
    "z = 6\n",
    "print(y + z)"
   ]
  },
  {
   "cell_type": "markdown",
   "id": "53aeaeba",
   "metadata": {
    "id": "53aeaeba"
   },
   "source": [
    "> Here are some basic arithmetic operations in Python"
   ]
  },
  {
   "cell_type": "code",
   "execution_count": null,
   "id": "fbc7eeab",
   "metadata": {
    "id": "fbc7eeab"
   },
   "outputs": [],
   "source": [
    "print(z/y)\n",
    "print(y%z)\n",
    "print(y**z)"
   ]
  },
  {
   "cell_type": "markdown",
   "id": "c20a5157",
   "metadata": {
    "id": "c20a5157"
   },
   "source": [
    "## Array and Loops"
   ]
  },
  {
   "cell_type": "markdown",
   "id": "5f89907b",
   "metadata": {
    "id": "5f89907b"
   },
   "source": [
    "> This is the constructor of a list. You can access elements of list by calling their index"
   ]
  },
  {
   "cell_type": "code",
   "execution_count": null,
   "id": "801df11d",
   "metadata": {
    "id": "801df11d"
   },
   "outputs": [],
   "source": [
    "arr = [1,2,3]\n",
    "arr[0]"
   ]
  },
  {
   "cell_type": "markdown",
   "id": "21ff4578",
   "metadata": {
    "id": "21ff4578"
   },
   "source": [
    "> In Python there are two ways to loop through a list"
   ]
  },
  {
   "cell_type": "code",
   "execution_count": null,
   "id": "4b31d3d2",
   "metadata": {
    "id": "4b31d3d2"
   },
   "outputs": [],
   "source": [
    "for i in arr:\n",
    "    print (i)"
   ]
  },
  {
   "cell_type": "code",
   "execution_count": null,
   "id": "4590784f",
   "metadata": {
    "id": "4590784f"
   },
   "outputs": [],
   "source": [
    "for i in range(len(arr)):\n",
    "    arr[i]+=1\n",
    "print(arr)"
   ]
  },
  {
   "cell_type": "markdown",
   "id": "8e6a7ee0",
   "metadata": {
    "id": "8e6a7ee0"
   },
   "source": [
    "> A lambda function is a very powerful tool in Python\n",
    ">\n",
    "> It is a function that can take multiple argument but have 1 expression\n",
    ">\n",
    "> with lambda functions you can apply it to your list through map\n",
    ">\n",
    "> Here I have a lambda function that squares a number only if it is even"
   ]
  },
  {
   "cell_type": "code",
   "execution_count": null,
   "id": "fb9750f9",
   "metadata": {
    "id": "fb9750f9"
   },
   "outputs": [],
   "source": [
    "squareIfEven = lambda x: x*x if x%2 == 0 else x\n",
    "a = list(map(squareIfEven, arr))"
   ]
  },
  {
   "cell_type": "code",
   "execution_count": null,
   "id": "df185f7b",
   "metadata": {
    "id": "df185f7b"
   },
   "outputs": [],
   "source": [
    "a"
   ]
  },
  {
   "cell_type": "markdown",
   "id": "ed4ebb81",
   "metadata": {
    "id": "ed4ebb81"
   },
   "source": [
    "## Pandas\n",
    "\n",
    "> What is pandas\n",
    "\n",
    "- pandas is a fast, powerful, flexible and easy to use open source data analysis and manipulation tool, built on top of the Python programming language.\n",
    "- with pandas you can create dataframes and organize and clean your data\n",
    "- Dataframes are like excel tables, they have columns and rows"
   ]
  },
  {
   "cell_type": "code",
   "execution_count": null,
   "id": "5x4pQ1bA3Sxn",
   "metadata": {
    "id": "5x4pQ1bA3Sxn"
   },
   "outputs": [],
   "source": [
    "df = pd.read_csv('pollution_data.csv')"
   ]
  },
  {
   "cell_type": "markdown",
   "id": "sZ9IrP_oCOvN",
   "metadata": {
    "id": "sZ9IrP_oCOvN"
   },
   "source": [
    "> If you are in Jupyter Notebook you should run this command to import data\n",
    ">\n",
    "`df = pd.read_csv(\"pollution_data.csv\")`"
   ]
  },
  {
   "cell_type": "code",
   "execution_count": null,
   "id": "447dfda7",
   "metadata": {
    "id": "447dfda7"
   },
   "outputs": [],
   "source": [
    "df.shape"
   ]
  },
  {
   "cell_type": "code",
   "execution_count": null,
   "id": "37c59cf1",
   "metadata": {
    "id": "37c59cf1"
   },
   "outputs": [],
   "source": [
    "df.columns"
   ]
  },
  {
   "cell_type": "code",
   "execution_count": null,
   "id": "e3fc6324",
   "metadata": {
    "id": "e3fc6324"
   },
   "outputs": [],
   "source": [
    "columns1 = ['Date', 'City','County','State']\n",
    "columns2 = ['Population Staying at Home','Population Not Staying at Home']\n",
    "columns3 = ['o3_median','pm25_median','no2_median','so2_median']\n",
    "df_new = df[columns1 + columns2 + columns3]\n",
    "df_new"
   ]
  },
  {
   "cell_type": "markdown",
   "id": "bSpl58Lw0neh",
   "metadata": {
    "id": "bSpl58Lw0neh"
   },
   "source": [
    "## data cleaning and drop na"
   ]
  },
  {
   "cell_type": "markdown",
   "id": "ThGFKCrZ1-Cr",
   "metadata": {
    "id": "ThGFKCrZ1-Cr"
   },
   "source": [
    "> most of the time, the data you are working with has many null values\n",
    ">\n",
    "> We want to deal with these null values by deleting the rows or converting null to a predefined value"
   ]
  },
  {
   "cell_type": "code",
   "execution_count": null,
   "id": "p2recy4E04Ey",
   "metadata": {
    "id": "p2recy4E04Ey"
   },
   "outputs": [],
   "source": [
    "df_new.dropna()"
   ]
  },
  {
   "cell_type": "code",
   "execution_count": null,
   "id": "403KEDti1ksf",
   "metadata": {
    "id": "403KEDti1ksf"
   },
   "outputs": [],
   "source": [
    "df_new.dropna(subset=['so2_median'])"
   ]
  },
  {
   "cell_type": "code",
   "execution_count": null,
   "id": "J0IDWYm11SNp",
   "metadata": {
    "id": "J0IDWYm11SNp"
   },
   "outputs": [],
   "source": [
    "df_new.dropna(subset=['pm25_median','o3_median'], inplace = True)"
   ]
  },
  {
   "cell_type": "code",
   "execution_count": null,
   "id": "wRzqm1-v14xm",
   "metadata": {
    "id": "wRzqm1-v14xm"
   },
   "outputs": [],
   "source": [
    "df_new.dtypes"
   ]
  },
  {
   "cell_type": "markdown",
   "id": "xMJSn4NR2eRx",
   "metadata": {
    "id": "xMJSn4NR2eRx"
   },
   "source": [
    "> As you can see, the population columns are the object data type\n",
    ">\n",
    "> panda is reading the values as string from the CSV file\n",
    ">\n",
    "> This is not what we want since python cannot comprehend values in this format"
   ]
  },
  {
   "cell_type": "code",
   "execution_count": null,
   "id": "WKIcFWKH25sU",
   "metadata": {
    "id": "WKIcFWKH25sU"
   },
   "outputs": [],
   "source": [
    "df_new['population not at home new']= df_new['Population Not Staying at Home'].apply(lambda x: int(x.replace(',','')))"
   ]
  },
  {
   "cell_type": "code",
   "execution_count": null,
   "id": "05snFyCh3gPn",
   "metadata": {
    "id": "05snFyCh3gPn"
   },
   "outputs": [],
   "source": [
    "df_new['population at home new']= df_new['Population Staying at Home'].apply(lambda x: int(x.replace(',','')))"
   ]
  },
  {
   "cell_type": "code",
   "execution_count": null,
   "id": "KkHhiOBw3nNu",
   "metadata": {
    "id": "KkHhiOBw3nNu"
   },
   "outputs": [],
   "source": [
    "df_new.dtypes"
   ]
  },
  {
   "cell_type": "code",
   "execution_count": null,
   "id": "eFIPcWOZ3rLl",
   "metadata": {
    "id": "eFIPcWOZ3rLl"
   },
   "outputs": [],
   "source": [
    "df_new.head()"
   ]
  },
  {
   "cell_type": "markdown",
   "id": "pvml4od4BKDE",
   "metadata": {
    "id": "pvml4od4BKDE"
   },
   "source": [
    "> After converting the population columns to int, we can delete the original population columns"
   ]
  },
  {
   "cell_type": "code",
   "execution_count": null,
   "id": "PIs0D6zG3-FK",
   "metadata": {
    "id": "PIs0D6zG3-FK"
   },
   "outputs": [],
   "source": [
    "df_new.drop(columns=['Population Staying at Home', 'Population Not Staying at Home'], inplace=True)"
   ]
  },
  {
   "cell_type": "code",
   "execution_count": null,
   "id": "jXAFwr9G4GUp",
   "metadata": {
    "id": "jXAFwr9G4GUp"
   },
   "outputs": [],
   "source": [
    "df_new.head()"
   ]
  },
  {
   "cell_type": "markdown",
   "id": "EQGTtihYGFzD",
   "metadata": {
    "id": "EQGTtihYGFzD"
   },
   "source": [
    "## iloc and Loc\n",
    "\n",
    "> Documentation: https://pandas.pydata.org/docs/reference/api/pandas.DataFrame.iloc.html"
   ]
  },
  {
   "cell_type": "code",
   "execution_count": null,
   "id": "MkG9R-JADZnI",
   "metadata": {
    "id": "MkG9R-JADZnI"
   },
   "outputs": [],
   "source": [
    "df_new.iloc[:,4:8]"
   ]
  },
  {
   "cell_type": "code",
   "execution_count": null,
   "id": "UEMYRCumyX81",
   "metadata": {
    "id": "UEMYRCumyX81"
   },
   "outputs": [],
   "source": [
    "df_new.loc[lambda x: x.State == \"MI\"]"
   ]
  },
  {
   "cell_type": "code",
   "execution_count": null,
   "id": "FDFncu5M0OCZ",
   "metadata": {
    "id": "FDFncu5M0OCZ"
   },
   "outputs": [],
   "source": [
    "df_new[df_new['State'] == 'MI']"
   ]
  },
  {
   "cell_type": "code",
   "execution_count": null,
   "id": "v62yrYQv0E_I",
   "metadata": {
    "id": "v62yrYQv0E_I"
   },
   "outputs": [],
   "source": [
    "df_new.loc[lambda x: x.State == \"MI\"].iloc[:,4:8]"
   ]
  },
  {
   "cell_type": "markdown",
   "id": "4iy2GQSa5_i3",
   "metadata": {
    "id": "4iy2GQSa5_i3"
   },
   "source": [
    "## group by and aggregate\n",
    "> Documentation:\n",
    "- Groupby: https://pandas.pydata.org/docs/reference/api/pandas.DataFrame.groupby.html\n",
    "- Aggregate: https://pandas.pydata.org/docs/reference/api/pandas.core.groupby.DataFrameGroupBy.aggregate.html"
   ]
  },
  {
   "cell_type": "code",
   "execution_count": null,
   "id": "iArl0NG0J3W0",
   "metadata": {
    "id": "iArl0NG0J3W0"
   },
   "outputs": [],
   "source": [
    "\n",
    "df_new.groupby(['City'])[['population not at home new','o3_median', 'pm25_median','no2_median','so2_median']].mean()\n"
   ]
  },
  {
   "cell_type": "code",
   "execution_count": null,
   "id": "ptFpneg36HW7",
   "metadata": {
    "id": "ptFpneg36HW7"
   },
   "outputs": [],
   "source": [
    "df_city = df_new.groupby(['City'])[['population not at home new','o3_median', 'pm25_median','no2_median','so2_median']].agg([np.mean, np.std, np.median])\n",
    "df_city.head()"
   ]
  },
  {
   "cell_type": "markdown",
   "id": "HYx8n4Vg7VgT",
   "metadata": {
    "id": "HYx8n4Vg7VgT"
   },
   "source": [
    "## matplotlib\n",
    "> matplotlib is a useful package for graphing data\n",
    ">\n",
    "> it can create line graph, scatter plots histograms and etc\n",
    "\n",
    "Documentation: https://matplotlib.org/stable/api/pyplot_summary.html"
   ]
  },
  {
   "cell_type": "code",
   "execution_count": null,
   "id": "AKRjfaevMLjT",
   "metadata": {
    "id": "AKRjfaevMLjT"
   },
   "outputs": [],
   "source": [
    "plt.scatter(df_city['population not at home new']['median'], df_city.pm25_median['median'])"
   ]
  },
  {
   "cell_type": "code",
   "execution_count": null,
   "id": "3IqikmDT7utb",
   "metadata": {
    "id": "3IqikmDT7utb"
   },
   "outputs": [],
   "source": [
    "df_city['pm25_median']['median'].hist()"
   ]
  },
  {
   "cell_type": "code",
   "execution_count": null,
   "id": "JdG772NI8JkB",
   "metadata": {
    "id": "JdG772NI8JkB"
   },
   "outputs": [],
   "source": [
    "df_MI = df_new.loc[lambda x: x.State == \"MI\"]\n",
    "df_MI['Date']= pd.to_datetime(df_MI['Date'])\n",
    "df_MI\n"
   ]
  },
  {
   "cell_type": "code",
   "execution_count": null,
   "id": "mPieXnTf8-C3",
   "metadata": {
    "id": "mPieXnTf8-C3"
   },
   "outputs": [],
   "source": [
    "df_MI.dtypes"
   ]
  },
  {
   "cell_type": "code",
   "execution_count": null,
   "id": "wqNUw-vU9MPx",
   "metadata": {
    "id": "wqNUw-vU9MPx"
   },
   "outputs": [],
   "source": [
    "plt.plot(df_MI.Date, df_MI.pm25_median)"
   ]
  },
  {
   "cell_type": "markdown",
   "id": "-6gRVP-b9l6x",
   "metadata": {
    "id": "-6gRVP-b9l6x"
   },
   "source": [
    "## basic linear regression and Scikit-learn"
   ]
  },
  {
   "cell_type": "code",
   "execution_count": null,
   "id": "XL_nBweq9q8r",
   "metadata": {
    "id": "XL_nBweq9q8r"
   },
   "outputs": [],
   "source": [
    "plt.scatter(df_city['population not at home new']['median'], df_city.pm25_median['median'])"
   ]
  },
  {
   "cell_type": "code",
   "execution_count": null,
   "id": "Q0HPnUfM9v9r",
   "metadata": {
    "id": "Q0HPnUfM9v9r"
   },
   "outputs": [],
   "source": [
    "X = df_city['population not at home new'][['median']]\n",
    "Y = df_city['pm25_median'][['median']]"
   ]
  },
  {
   "cell_type": "code",
   "execution_count": null,
   "id": "lHkrpWjj-cui",
   "metadata": {
    "id": "lHkrpWjj-cui"
   },
   "outputs": [],
   "source": [
    "regr = linear_model.LinearRegression()\n",
    "regr.fit(X,Y)"
   ]
  },
  {
   "cell_type": "code",
   "execution_count": null,
   "id": "l4RmdcqT_SJp",
   "metadata": {
    "id": "l4RmdcqT_SJp"
   },
   "outputs": [],
   "source": [
    "Y_pred = regr.predict(X)\n",
    "plt.scatter(X, Y)\n",
    "plt.plot(X,Y_pred)\n"
   ]
  },
  {
   "cell_type": "code",
   "execution_count": null,
   "id": "pPf0ggE-_jBs",
   "metadata": {
    "id": "pPf0ggE-_jBs"
   },
   "outputs": [],
   "source": [
    "regr.score(Y, Y_pred)"
   ]
  },
  {
   "cell_type": "code",
   "execution_count": null,
   "id": "1aYnwiFoAgXT",
   "metadata": {
    "id": "1aYnwiFoAgXT"
   },
   "outputs": [],
   "source": []
  },
  {
   "cell_type": "markdown",
   "id": "P6qOUB28GEkN",
   "metadata": {
    "id": "P6qOUB28GEkN"
   },
   "source": []
  }
 ],
 "metadata": {
  "colab": {
   "collapsed_sections": [],
   "provenance": []
  },
  "kernelspec": {
   "display_name": "Python 3 (ipykernel)",
   "language": "python",
   "name": "python3"
  },
  "language_info": {
   "codemirror_mode": {
    "name": "ipython",
    "version": 3
   },
   "file_extension": ".py",
   "mimetype": "text/x-python",
   "name": "python",
   "nbconvert_exporter": "python",
   "pygments_lexer": "ipython3",
   "version": "3.9.7"
  }
 },
 "nbformat": 4,
 "nbformat_minor": 5
}
